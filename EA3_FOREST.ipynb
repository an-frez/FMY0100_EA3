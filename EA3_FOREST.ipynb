{
  "cells": [
    {
      "cell_type": "markdown",
      "metadata": {
        "id": "7RiyANGsP_aw"
      },
      "source": [
        "# Peparacion del data frame"
      ]
    },
    {
      "cell_type": "markdown",
      "metadata": {
        "id": "uxIbHHUWPMRR"
      },
      "source": [
        "## Configuración inicial y carga de datos"
      ]
    },
    {
      "cell_type": "code",
      "execution_count": 2,
      "metadata": {
        "id": "a__k0znxO-qx"
      },
      "outputs": [],
      "source": [
        "import pandas as pd\n",
        "import numpy as np\n",
        "import matplotlib.pyplot as plt\n",
        "import seaborn as sns\n",
        "from scipy import stats\n",
        "import warnings\n",
        "warnings.filterwarnings('ignore')\n",
        "\n",
        "plt.style.use('ggplot')\n",
        "sns.set(style=\"whitegrid\")\n",
        "pd.set_option('display.max_columns', None)"
      ]
    },
    {
      "cell_type": "markdown",
      "metadata": {
        "id": "ioH7CWGjPZJW"
      },
      "source": [
        "Cargar archivo"
      ]
    },
    {
      "cell_type": "code",
      "execution_count": 3,
      "metadata": {
        "colab": {
          "base_uri": "https://localhost:8080/",
          "height": 74
        },
        "id": "CsEvmb9qPb3-",
        "outputId": "29304353-ba73-42a4-a1ca-18106f35e414"
      },
      "outputs": [],
      "source": [
        "import csv\n",
        "\n",
        "with open('Anexo ET_demo_round_traces_2022.csv') as csvfile:\n",
        "    df = pd.read_csv(csvfile, sep=\";\")"
      ]
    },
    {
      "cell_type": "markdown",
      "metadata": {
        "id": "9Y4LQL9Yv8mQ"
      },
      "source": [
        "Limpiar nulos"
      ]
    },
    {
      "cell_type": "code",
      "execution_count": 4,
      "metadata": {
        "colab": {
          "base_uri": "https://localhost:8080/"
        },
        "id": "PLOM5uT4v75g",
        "outputId": "5701eb03-f302-41b6-dd7d-aff9d80fae7f"
      },
      "outputs": [
        {
          "name": "stdout",
          "output_type": "stream",
          "text": [
            "Series([], dtype: int64)\n"
          ]
        }
      ],
      "source": [
        "df.dropna(how='any', inplace=True)\n",
        "null_values_new = df.isnull().sum()\n",
        "print(null_values_new[null_values_new > 0])"
      ]
    },
    {
      "cell_type": "markdown",
      "metadata": {
        "id": "RPl4zmjFwd0R"
      },
      "source": [
        "Quitar variables con las que no se van a usar en el modelo"
      ]
    },
    {
      "cell_type": "code",
      "execution_count": 5,
      "metadata": {
        "id": "_yltc2L4wKLu"
      },
      "outputs": [],
      "source": [
        "droped_vars = (\"AbnormalMatch\",\"TravelledDistance\",\"Map\",\"InternalTeamId\",\"MatchId\",\n",
        "               \"RoundId\",\"RoundWinner\",\"Survived\",\"RLethalGrenadesThrown\",\"RNonLethalGrenadesThrown\",\n",
        "               \"PrimaryAssaultRifle\",\"PrimarySniperRifle\",\"PrimaryHeavy\",\"PrimarySMG\",\"PrimaryPistol\",\n",
        "               \"RoundAssists\",\"RoundHeadshots\",\"RoundFlankKills\",\"MatchFlankKills\",\"MatchAssists\",\"MatchHeadshots\",\n",
        "               \"MatchKills\",\"Unnamed: 0\")\n",
        "\n",
        "for var in droped_vars:\n",
        "  df = df.drop(var, axis=1)\n"
      ]
    },
    {
      "cell_type": "markdown",
      "metadata": {
        "id": "Q6_tFsOrw9ls"
      },
      "source": [
        "transformar objeto a int"
      ]
    },
    {
      "cell_type": "code",
      "execution_count": 6,
      "metadata": {
        "id": "EM0f5J6MwV6A"
      },
      "outputs": [],
      "source": [
        "# Transformar variables Objecto a int\n",
        "try:\n",
        "  df['TimeAlive'] = pd.to_numeric(df['TimeAlive'].str.replace('.', ''))\n",
        "  df['FirstKillTime'] = pd.to_numeric(df['FirstKillTime'].str.replace('.', ''))\n",
        "except Exception as e:\n",
        "  print(f'{e}\\n')\n"
      ]
    },
    {
      "cell_type": "markdown",
      "metadata": {
        "id": "8BbAH8EWz5MX"
      },
      "source": [
        "Transformar las variables categoricas Team y MatchWinner a binario.\n",
        "\n",
        "Team:\n",
        "* Terrorist: 0\n",
        "* CounterTerrorist: 1\n",
        "\n",
        "MatchWinner:\n",
        "* True: 1\n",
        "* False: 0"
      ]
    },
    {
      "cell_type": "code",
      "execution_count": 7,
      "metadata": {
        "collapsed": true,
        "id": "0E7t98Zz0u2b"
      },
      "outputs": [],
      "source": [
        "df.Team.replace(to_replace=['Terrorist', 'CounterTerrorist'], value=[0, 1], inplace=True )\n",
        "df.MatchWinner.replace(to_replace=['False', 'True'], value=[0, 1], inplace=True )\n",
        "df.MatchWinner = df.MatchWinner.astype(int)"
      ]
    },
    {
      "cell_type": "code",
      "execution_count": 8,
      "metadata": {
        "colab": {
          "base_uri": "https://localhost:8080/",
          "height": 226
        },
        "id": "KK2lK7k1y9Y8",
        "outputId": "d2f5a392-9e36-484c-b766-aa0a5799ed33"
      },
      "outputs": [
        {
          "data": {
            "text/html": [
              "<div>\n",
              "<style scoped>\n",
              "    .dataframe tbody tr th:only-of-type {\n",
              "        vertical-align: middle;\n",
              "    }\n",
              "\n",
              "    .dataframe tbody tr th {\n",
              "        vertical-align: top;\n",
              "    }\n",
              "\n",
              "    .dataframe thead th {\n",
              "        text-align: right;\n",
              "    }\n",
              "</style>\n",
              "<table border=\"1\" class=\"dataframe\">\n",
              "  <thead>\n",
              "    <tr style=\"text-align: right;\">\n",
              "      <th></th>\n",
              "      <th>Team</th>\n",
              "      <th>MatchWinner</th>\n",
              "      <th>TimeAlive</th>\n",
              "      <th>FirstKillTime</th>\n",
              "      <th>RoundKills</th>\n",
              "      <th>RoundStartingEquipmentValue</th>\n",
              "      <th>TeamStartingEquipmentValue</th>\n",
              "    </tr>\n",
              "  </thead>\n",
              "  <tbody>\n",
              "    <tr>\n",
              "      <th>0</th>\n",
              "      <td>0</td>\n",
              "      <td>1</td>\n",
              "      <td>51120248995704500</td>\n",
              "      <td>0</td>\n",
              "      <td>0</td>\n",
              "      <td>750</td>\n",
              "      <td>4400</td>\n",
              "    </tr>\n",
              "    <tr>\n",
              "      <th>1</th>\n",
              "      <td>0</td>\n",
              "      <td>1</td>\n",
              "      <td>4348662552266170</td>\n",
              "      <td>0</td>\n",
              "      <td>0</td>\n",
              "      <td>800</td>\n",
              "      <td>4400</td>\n",
              "    </tr>\n",
              "    <tr>\n",
              "      <th>2</th>\n",
              "      <td>0</td>\n",
              "      <td>1</td>\n",
              "      <td>3735469847054540</td>\n",
              "      <td>0</td>\n",
              "      <td>0</td>\n",
              "      <td>1000</td>\n",
              "      <td>4400</td>\n",
              "    </tr>\n",
              "    <tr>\n",
              "      <th>3</th>\n",
              "      <td>0</td>\n",
              "      <td>1</td>\n",
              "      <td>4767886136441470</td>\n",
              "      <td>0</td>\n",
              "      <td>0</td>\n",
              "      <td>850</td>\n",
              "      <td>4400</td>\n",
              "    </tr>\n",
              "    <tr>\n",
              "      <th>4</th>\n",
              "      <td>0</td>\n",
              "      <td>1</td>\n",
              "      <td>5312251089027310</td>\n",
              "      <td>0</td>\n",
              "      <td>0</td>\n",
              "      <td>1000</td>\n",
              "      <td>4400</td>\n",
              "    </tr>\n",
              "  </tbody>\n",
              "</table>\n",
              "</div>"
            ],
            "text/plain": [
              "   Team  MatchWinner          TimeAlive  FirstKillTime  RoundKills  \\\n",
              "0     0            1  51120248995704500              0           0   \n",
              "1     0            1   4348662552266170              0           0   \n",
              "2     0            1   3735469847054540              0           0   \n",
              "3     0            1   4767886136441470              0           0   \n",
              "4     0            1   5312251089027310              0           0   \n",
              "\n",
              "   RoundStartingEquipmentValue  TeamStartingEquipmentValue  \n",
              "0                          750                        4400  \n",
              "1                          800                        4400  \n",
              "2                         1000                        4400  \n",
              "3                          850                        4400  \n",
              "4                         1000                        4400  "
            ]
          },
          "execution_count": 8,
          "metadata": {},
          "output_type": "execute_result"
        }
      ],
      "source": [
        "df.head()"
      ]
    },
    {
      "cell_type": "markdown",
      "metadata": {
        "id": "MZwn4EdRzJ6Z"
      },
      "source": [
        "## Objetivo"
      ]
    },
    {
      "cell_type": "markdown",
      "metadata": {
        "id": "mSVwXRw7zgeS"
      },
      "source": [
        "Utilizar las variables para determinar el tiempo de vida (TimeAlive) del jugador"
      ]
    },
    {
      "cell_type": "markdown",
      "metadata": {
        "id": "mjE-4UfmVjOj"
      },
      "source": [
        "# Random Forest"
      ]
    },
    {
      "cell_type": "code",
      "execution_count": 9,
      "metadata": {
        "id": "1Inj6CEXVmcB"
      },
      "outputs": [],
      "source": [
        "import sklearn.metrics\n",
        "from sklearn.model_selection import train_test_split\n",
        "\n",
        "from sklearn.model_selection import train_test_split\n",
        "from sklearn.ensemble import RandomForestRegressor\n",
        "from sklearn.model_selection import GridSearchCV\n"
      ]
    },
    {
      "cell_type": "code",
      "execution_count": 10,
      "metadata": {
        "id": "p-4UZWiFVlPO"
      },
      "outputs": [],
      "source": [
        "x = np.array(df.drop(\"TimeAlive\",axis=1))\n",
        "y = np.array(df[\"TimeAlive\"])\n",
        "Xtrain, Xtest, Ytrain, Ytest = train_test_split(x,y,test_size=0.2)"
      ]
    },
    {
      "cell_type": "code",
      "execution_count": 12,
      "metadata": {
        "colab": {
          "base_uri": "https://localhost:8080/"
        },
        "collapsed": true,
        "id": "0GvzpHCxWrBp",
        "outputId": "8671a27f-4ed0-4c25-c14a-1ee9adabd74f"
      },
      "outputs": [],
      "source": [
        "model = RandomForestRegressor()\n",
        "\n",
        "params = {\"n_estimators\": [100,200,300],\n",
        "          \"max_features\": ['sqrt'],\n",
        "          \"max_depth\": np.arange(4,7), \n",
        "          \"min_samples_split\": np.arange(4,7), \n",
        "          \"max_leaf_nodes\": np.arange(10,25,5)}\n",
        "\n",
        "grid = GridSearchCV(estimator=model, param_grid=params,cv=5)\n",
        "_=grid.fit(Xtrain, Ytrain)"
      ]
    },
    {
      "cell_type": "code",
      "execution_count": 13,
      "metadata": {
        "id": "n-CorM8iW_QU"
      },
      "outputs": [
        {
          "name": "stdout",
          "output_type": "stream",
          "text": [
            "0.011300718941044053\n",
            "{'max_depth': np.int64(6), 'max_features': 'sqrt', 'max_leaf_nodes': np.int64(20), 'min_samples_split': np.int64(6), 'n_estimators': 200}\n"
          ]
        }
      ],
      "source": [
        "print(grid.best_score_)\n",
        "print(grid.best_params_)"
      ]
    },
    {
      "cell_type": "code",
      "execution_count": 14,
      "metadata": {},
      "outputs": [
        {
          "name": "stdout",
          "output_type": "stream",
          "text": [
            "MSE:  1.9931296825487322e+32\n",
            "MAE:  9493997887812936.0\n",
            "R^2:  0.009990560678114768\n"
          ]
        }
      ],
      "source": [
        "from sklearn.metrics import mean_squared_error\n",
        "from sklearn.metrics import mean_absolute_error\n",
        "from sklearn.metrics import r2_score\n",
        "\n",
        "Yhat = grid.predict(Xtest)\n",
        "\n",
        "mse = mean_squared_error(Ytest, Yhat)\n",
        "mae = mean_absolute_error(Ytest, Yhat)\n",
        "R2 = r2_score(Ytest, Yhat)\n",
        "\n",
        "print(\"MSE: \",mse)\n",
        "print(\"MAE: \",mae)\n",
        "print(\"R^2: \",R2)"
      ]
    }
  ],
  "metadata": {
    "colab": {
      "provenance": [],
      "toc_visible": true
    },
    "kernelspec": {
      "display_name": "machine_learning",
      "language": "python",
      "name": "python3"
    },
    "language_info": {
      "codemirror_mode": {
        "name": "ipython",
        "version": 3
      },
      "file_extension": ".py",
      "mimetype": "text/x-python",
      "name": "python",
      "nbconvert_exporter": "python",
      "pygments_lexer": "ipython3",
      "version": "3.11.11"
    }
  },
  "nbformat": 4,
  "nbformat_minor": 0
}
